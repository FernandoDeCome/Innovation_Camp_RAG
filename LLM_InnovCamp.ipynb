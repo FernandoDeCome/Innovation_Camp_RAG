{
 "cells": [
  {
   "cell_type": "markdown",
   "id": "24fde0ca",
   "metadata": {},
   "source": [
    "### OCI Data Science - Useful Tips\n",
    "<details>\n",
    "<summary><font size=\"2\">Check for Public Internet Access</font></summary>\n",
    "\n",
    "```python\n",
    "import requests\n",
    "response = requests.get(\"https://oracle.com\")\n",
    "assert response.status_code==200, \"Internet connection failed\"\n",
    "```\n",
    "</details>\n",
    "<details>\n",
    "<summary><font size=\"2\">Helpful Documentation </font></summary>\n",
    "<ul><li><a href=\"https://docs.cloud.oracle.com/en-us/iaas/data-science/using/data-science.htm\">Data Science Service Documentation</a></li>\n",
    "<li><a href=\"https://docs.cloud.oracle.com/iaas/tools/ads-sdk/latest/index.html\">ADS documentation</a></li>\n",
    "</ul>\n",
    "</details>\n",
    "<details>\n",
    "<summary><font size=\"2\">Typical Cell Imports and Settings for ADS</font></summary>\n",
    "\n",
    "```python\n",
    "%load_ext autoreload\n",
    "%autoreload 2\n",
    "%matplotlib inline\n",
    "\n",
    "import warnings\n",
    "warnings.filterwarnings('ignore')\n",
    "\n",
    "import logging\n",
    "logging.basicConfig(format='%(levelname)s:%(message)s', level=logging.ERROR)\n",
    "\n",
    "import ads\n",
    "from ads.dataset.factory import DatasetFactory\n",
    "from ads.automl.provider import OracleAutoMLProvider\n",
    "from ads.automl.driver import AutoML\n",
    "from ads.evaluations.evaluator import ADSEvaluator\n",
    "from ads.common.data import ADSData\n",
    "from ads.explanations.explainer import ADSExplainer\n",
    "from ads.explanations.mlx_global_explainer import MLXGlobalExplainer\n",
    "from ads.explanations.mlx_local_explainer import MLXLocalExplainer\n",
    "from ads.catalog.model import ModelCatalog\n",
    "from ads.common.model_artifact import ModelArtifact\n",
    "```\n",
    "</details>\n",
    "<details>\n",
    "<summary><font size=\"2\">Useful Environment Variables</font></summary>\n",
    "\n",
    "```python\n",
    "import os\n",
    "print(os.environ[\"NB_SESSION_COMPARTMENT_OCID\"])\n",
    "print(os.environ[\"PROJECT_OCID\"])\n",
    "print(os.environ[\"USER_OCID\"])\n",
    "print(os.environ[\"TENANCY_OCID\"])\n",
    "print(os.environ[\"NB_REGION\"])\n",
    "```\n",
    "</details>"
   ]
  },
  {
   "cell_type": "code",
   "execution_count": 10,
   "id": "af9f4484",
   "metadata": {},
   "outputs": [],
   "source": [
    "from langchain.vectorstores import Chroma\n",
    "from langchain.embeddings import CohereEmbeddings\n",
    "\n",
    "#Para gerar uma chave API Cohere, basta entrar em https://dashboard.cohere.com/api-keys; \n",
    "#Há tanto uma API Trial (gratuita e mais limitada) quanto uma API Produtiva\n",
    "\n",
    "cohere = CohereEmbeddings(cohere_api_key=cohere_api_key, model = \"multilingual-22-12\")\n",
    "\n",
    "#Nome da pasta de onde está a VectorStore\n",
    "persist_directory = 'InnovationCamp_VectorDB'\n",
    "\n",
    "#Carregando a VectorStore do disco\n",
    "vectorstore = Chroma(persist_directory=persist_directory,\n",
    "                  embedding_function=cohere)\n"
   ]
  },
  {
   "cell_type": "code",
   "execution_count": 2,
   "id": "d2d0dd06",
   "metadata": {},
   "outputs": [],
   "source": [
    "question = \"Como previnir câncer de mama?\"\n",
    "docs = vectorstore.similarity_search(question)"
   ]
  },
  {
   "cell_type": "code",
   "execution_count": 3,
   "id": "74b51839",
   "metadata": {},
   "outputs": [
    {
     "data": {
      "text/plain": [
       "'que favorecem o desenvolvimento desse tipo de câncer caem na mulher. Além disso, na amamentação também ocorre renovação de células que poderiam ter lesões, diminuindo assim as chances da doença. Quanto mais prolongada for a amamentação, maior a proteção para a mãe. Dica bônus: realizar mamografia. Além de prevenção, é fundamental falarmos de detecção precoce. É imprescindível que as mulheres a partir dos 40 anos realizem anualmente a mamografia, exame mais eficaz para o diagnóstico precoce. Nas'"
      ]
     },
     "execution_count": 3,
     "metadata": {},
     "output_type": "execute_result"
    }
   ],
   "source": [
    "docs[0].page_content"
   ]
  },
  {
   "cell_type": "code",
   "execution_count": 4,
   "id": "beeeda52",
   "metadata": {},
   "outputs": [
    {
     "data": {
      "text/plain": [
       "'https://www.pucrs.br/blog/prevencao-cancer-de-mama/'"
      ]
     },
     "execution_count": 4,
     "metadata": {},
     "output_type": "execute_result"
    }
   ],
   "source": [
    "docs[0].metadata['source']"
   ]
  },
  {
   "cell_type": "code",
   "execution_count": 11,
   "id": "26b19952",
   "metadata": {},
   "outputs": [],
   "source": [
    "#Apenas para formatar as fontes. Como o Retriever retorna os top K resultados, podemos ter K fontes iguais e\n",
    "#não queremos printar a mesma fonte K vezes. \n",
    "def unique_elements(input_list):\n",
    "    unique_elements = list(set(input_list))\n",
    "    return unique_elements"
   ]
  },
  {
   "cell_type": "code",
   "execution_count": 12,
   "id": "2b5b7899",
   "metadata": {},
   "outputs": [],
   "source": [
    "def format_answer(fontes, answer):\n",
    "    unique_fontes = unique_elements(fontes)\n",
    "    \n",
    "    fontes_formatadas = ''\n",
    "    \n",
    "    if len(unique_fontes) == 1:\n",
    "        for i in range(len(unique_fontes)):\n",
    "            fontes_formatadas += f\"{i+1}. {unique_fontes[i]}\\n \"\n",
    "    \n",
    "            resultado_final = f\"\\nResposta do Modelo: {answer} \\n \\n Leia mais no link: \\n {fontes_formatadas}\"\n",
    "    \n",
    "    elif len(unique_fontes) > 1:\n",
    "        for i in range(len(unique_fontes)):\n",
    "            fontes_formatadas += f\"{i+1}. {unique_fontes[i]}\\n \"\n",
    "\n",
    "        resultado_final = f\"\\nRosana: {answer} \\n \\n Leia mais nos links: \\n {fontes_formatadas}\"\n",
    "        \n",
    "    return resultado_final"
   ]
  },
  {
   "cell_type": "code",
   "execution_count": 13,
   "id": "da2a305a",
   "metadata": {},
   "outputs": [],
   "source": [
    "import maritalk\n",
    "\n",
    "#Para gerar uma chave API, basta entrar em https://chat.maritaca.ai/, criar uma conta e criar a API.\n",
    "\n",
    "model = maritalk.MariTalk(key=maritalk_key)"
   ]
  },
  {
   "cell_type": "code",
   "execution_count": 14,
   "id": "284991b4",
   "metadata": {},
   "outputs": [],
   "source": [
    "def print_info(hospital):\n",
    "    print(f\"Nome do Hospital: {hospital.Hospital}\")\n",
    "    print(f\"Endereço: {hospital.Endereço}, CEP {hospital.CEP}\")\n",
    "    print(f\"Telefone: {hospital.Telefone}\")\n",
    "    print(f\"Site: {hospital.Site}\")"
   ]
  },
  {
   "cell_type": "code",
   "execution_count": 15,
   "id": "437cf7f5",
   "metadata": {},
   "outputs": [],
   "source": [
    "from geopy.geocoders import Nominatim\n",
    "from geopy.distance import geodesic\n",
    "import pandas as pd\n",
    "from colorama import Fore"
   ]
  },
  {
   "cell_type": "code",
   "execution_count": 16,
   "id": "f4afaa83",
   "metadata": {},
   "outputs": [],
   "source": [
    "hospital_excel = pd.read_excel(\"2023.12.07 - IA e Tech - Lista de hospitais.xlsx\")"
   ]
  },
  {
   "cell_type": "code",
   "execution_count": 17,
   "id": "4987ce9b",
   "metadata": {},
   "outputs": [],
   "source": [
    "def print_disclaimer():\n",
    "    \n",
    "    disclaimer = '''    *Disclaimer*:\n",
    "    \n",
    "    Como toda Inteligência Artificial, eu também posso cometer erros e retornar informações imprecisas ou até mesmo incorretas. \n",
    "    É fortemente recomendada a leitura as fontes fornecidas pois nelas temos informações curadas, seguras e corretas, além de \n",
    "    muitas outras informações que podem não estar contidas na minha resposta. \n",
    "    \n",
    "    Lembre-se: A melhor forma de prevenção contra o câncer de mama é a informação! \n",
    "    '''\n",
    "    print(disclaimer)\n"
   ]
  },
  {
   "cell_type": "code",
   "execution_count": 18,
   "id": "755a30de",
   "metadata": {},
   "outputs": [],
   "source": [
    "def sugere_hospital_proximo(hospital_excel):\n",
    "    geocoder = Nominatim(user_agent=\"user_agent\")\n",
    "    endereço = str(input(\"Digite seu endereço: \"))\n",
    "    print(\"\")\n",
    "    location = geocoder.geocode(endereço)\n",
    "\n",
    "    lat = location.latitude\n",
    "    long = location.longitude\n",
    "\n",
    "    dist_0 = 2000 #número alto genérico\n",
    "    i_min = 0\n",
    "\n",
    "    for i in range(len(hospital_excel)):\n",
    "\n",
    "        hospital_lat = hospital_excel.iloc[i].Latitude\n",
    "        hospital_long = hospital_excel.iloc[i].Longitude\n",
    "\n",
    "\n",
    "        dist = geodesic((lat,long), (hospital_lat, hospital_long)).kilometers\n",
    "\n",
    "        if dist<dist_0:\n",
    "            dist_0 = dist\n",
    "            i_min = i\n",
    "\n",
    "    hospital_mais_proximo = hospital_excel.iloc[i_min]\n",
    "\n",
    "    print(\"A unidade mais próxima do endereço fornecido e que atende seu convênio é: \")\n",
    "    print(\"\")\n",
    "    print_info(hospital_mais_proximo)"
   ]
  },
  {
   "cell_type": "code",
   "execution_count": 19,
   "id": "d746fbe4",
   "metadata": {},
   "outputs": [
    {
     "name": "stdout",
     "output_type": "stream",
     "text": [
      "Digite sua pergunta:  Mamografia dói?\n"
     ]
    },
    {
     "name": "stdout",
     "output_type": "stream",
     "text": [
      "\n",
      "Rosana: Sim, a mamografia pode causar algum desconforto ou dor durante o exame. Isso ocorre porque o aparelho de mamografia comprime a mama para obter uma imagem nítida. No entanto, a dor é geralmente tolerável e temporária. Se você estiver preocupado com a dor, converse com seu médico ou técnico de mamografia antes do exame. Eles podem explicar o procedimento e ajudá-lo a se sentir mais confortável. \n",
      " \n",
      " Leia mais nos links: \n",
      " 1. https://www.pucrs.br/blog/prevencao-cancer-de-mama/\n",
      " 2. https://www.cancerdemamabrasil.com.br/como-funciona-a-mamografia/#:~:text=A%20mamografia%20utiliza%20um%20aparelho,mama%20para%20separar%20o%20tecido.\n",
      " 3. http://www.oncoguia.org.br/conteudo/sinais-e-sintomas-do-cancer-de-mama/1383/34/\n",
      " \n"
     ]
    },
    {
     "name": "stdout",
     "output_type": "stream",
     "text": [
      "Gostaria de encontrar o hospital mais próximo de um endereço? [y/n]: y\n",
      "Possui algum convênio? [y/n]: Av. Portugal, 1290\n",
      "Digite seu endereço:  n\n"
     ]
    },
    {
     "name": "stdout",
     "output_type": "stream",
     "text": [
      "\n",
      "A unidade mais próxima do endereço fornecido e que atende seu convênio é: \n",
      "\n",
      "Nome do Hospital: Hospital Albert Einstein - Morumbi\n",
      "Endereço: Av. Albert Einstein, 627/701 - Morumbi, São Paulo, CEP 05652-900\n",
      "Telefone: (11) 2151-1233\n",
      "Site: https://www.einstein.br/\n",
      "\n",
      "    *Disclaimer*:\n",
      "    \n",
      "    Como toda Inteligência Artificial, eu também posso cometer erros e retornar informações imprecisas ou até mesmo incorretas. \n",
      "    É fortemente recomendada a leitura as fontes fornecidas pois nelas temos informações curadas, seguras e corretas, além de \n",
      "    muitas outras informações que podem não estar contidas na minha resposta. \n",
      "    \n",
      "    Lembre-se: A melhor forma de prevenção contra o câncer de mama é a informação! \n",
      "    \n"
     ]
    }
   ],
   "source": [
    "pergunta = str(input(\"Digite sua pergunta: \"))\n",
    "\n",
    "docs_2 = vectorstore.similarity_search(pergunta, k=4)\n",
    "\n",
    "contexto_2 = ''\n",
    "fontes_2 = []\n",
    "\n",
    "for i in range (len(docs_2)):\n",
    "    contexto_2 += f\"{docs_2[i].page_content} \"\n",
    "    fontes_2.append(docs_2[i].metadata['source'])\n",
    "    \n",
    "prompt = f'''A pergunta abaixo tem relação com informações de câncer de mama. \n",
    "Responda, por favor, de forma direta, concisa e resumida a pergunta a seguir baseado somente no contexto fornecido.\n",
    "Se não for possível deduzir a resposta adequada a partir do contexto, responda \"Eu não sei\" e não invente uma resposta. \n",
    "Evite a todo custo fornecer diagnósticos sobre a saúde do paciente, e reforce a importância de consultar ajuda médica.\n",
    "Responda com atenção pois isto é muito importante para minha carreira.\n",
    "Contexto: {contexto_2};\n",
    "Pergunta: {pergunta};\n",
    "'''\n",
    "\n",
    "answer = model.generate(\n",
    "    prompt,\n",
    "    do_sample=True,\n",
    "    max_tokens=1000,\n",
    "    temperature=0.1,\n",
    "    top_p=0.95)\n",
    "\n",
    "resultado_final = format_answer(fontes_2, answer)\n",
    "\n",
    "print(resultado_final)\n",
    "\n",
    "quer_sugestão = str(input(\"Gostaria de encontrar o hospital mais próximo de um endereço? [y/n]:\"))\n",
    "if quer_sugestão == 'y':\n",
    "    intention = str(input(\"Possui algum convênio? [y/n]:\"))\n",
    "    \n",
    "    if intention == 'y':\n",
    "        convenio = str(input(\"Digite o nome do seu convênio: \"))\n",
    "        \n",
    "        for i in range(len(hospital_excel)):\n",
    "            if convenio not in hospital_excel.Convênios.iloc[i]:\n",
    "                hospital_excel.drop([i])  \n",
    "\n",
    "    sugere_hospital_proximo(hospital_excel)\n",
    "else:\n",
    "    pass\n",
    "print(\"\")\n",
    "print_disclaimer()"
   ]
  },
  {
   "cell_type": "code",
   "execution_count": null,
   "id": "4a4f7ffe",
   "metadata": {},
   "outputs": [],
   "source": []
  }
 ],
 "metadata": {
  "kernelspec": {
   "display_name": "Python [conda env:pytorch20_p39_gpu_v1]",
   "language": "python",
   "name": "conda-env-pytorch20_p39_gpu_v1-py"
  },
  "language_info": {
   "codemirror_mode": {
    "name": "ipython",
    "version": 3
   },
   "file_extension": ".py",
   "mimetype": "text/x-python",
   "name": "python",
   "nbconvert_exporter": "python",
   "pygments_lexer": "ipython3",
   "version": "3.9.16"
  }
 },
 "nbformat": 4,
 "nbformat_minor": 5
}
