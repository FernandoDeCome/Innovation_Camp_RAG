{
 "cells": [
  {
   "cell_type": "markdown",
   "id": "85fa2f0a",
   "metadata": {},
   "source": [
    "### OCI Data Science - Useful Tips\n",
    "<details>\n",
    "<summary><font size=\"2\">Check for Public Internet Access</font></summary>\n",
    "\n",
    "```python\n",
    "import requests\n",
    "response = requests.get(\"https://oracle.com\")\n",
    "assert response.status_code==200, \"Internet connection failed\"\n",
    "```\n",
    "</details>\n",
    "<details>\n",
    "<summary><font size=\"2\">Helpful Documentation </font></summary>\n",
    "<ul><li><a href=\"https://docs.cloud.oracle.com/en-us/iaas/data-science/using/data-science.htm\">Data Science Service Documentation</a></li>\n",
    "<li><a href=\"https://docs.cloud.oracle.com/iaas/tools/ads-sdk/latest/index.html\">ADS documentation</a></li>\n",
    "</ul>\n",
    "</details>\n",
    "<details>\n",
    "<summary><font size=\"2\">Typical Cell Imports and Settings for ADS</font></summary>\n",
    "\n",
    "```python\n",
    "%load_ext autoreload\n",
    "%autoreload 2\n",
    "%matplotlib inline\n",
    "\n",
    "import warnings\n",
    "warnings.filterwarnings('ignore')\n",
    "\n",
    "import logging\n",
    "logging.basicConfig(format='%(levelname)s:%(message)s', level=logging.ERROR)\n",
    "\n",
    "import ads\n",
    "from ads.dataset.factory import DatasetFactory\n",
    "from ads.automl.provider import OracleAutoMLProvider\n",
    "from ads.automl.driver import AutoML\n",
    "from ads.evaluations.evaluator import ADSEvaluator\n",
    "from ads.common.data import ADSData\n",
    "from ads.explanations.explainer import ADSExplainer\n",
    "from ads.explanations.mlx_global_explainer import MLXGlobalExplainer\n",
    "from ads.explanations.mlx_local_explainer import MLXLocalExplainer\n",
    "from ads.catalog.model import ModelCatalog\n",
    "from ads.common.model_artifact import ModelArtifact\n",
    "```\n",
    "</details>\n",
    "<details>\n",
    "<summary><font size=\"2\">Useful Environment Variables</font></summary>\n",
    "\n",
    "```python\n",
    "import os\n",
    "print(os.environ[\"NB_SESSION_COMPARTMENT_OCID\"])\n",
    "print(os.environ[\"PROJECT_OCID\"])\n",
    "print(os.environ[\"USER_OCID\"])\n",
    "print(os.environ[\"TENANCY_OCID\"])\n",
    "print(os.environ[\"NB_REGION\"])\n",
    "```\n",
    "</details>"
   ]
  },
  {
   "cell_type": "code",
   "execution_count": 28,
   "id": "48e9aa68",
   "metadata": {},
   "outputs": [],
   "source": [
    "###SEMPRE que remover a VectorDB, é necessário reiniciar o Kernel; do contrário tomaremos erro. \n",
    "import shutil\n",
    "\n",
    "shutil.rmtree(\"InnovationCamp_VectorDB\")"
   ]
  },
  {
   "cell_type": "code",
   "execution_count": 1,
   "id": "562ef193",
   "metadata": {},
   "outputs": [
    {
     "name": "stderr",
     "output_type": "stream",
     "text": [
      " 50%|█████     | 4/8 [00:00<00:00, 350.33it/s]\n"
     ]
    }
   ],
   "source": [
    "from langchain.document_loaders import DirectoryLoader, JSONLoader\n",
    "\n",
    "# Define the metadata extraction function.\n",
    "def metadata_func(record: dict, metadata: dict) -> dict:\n",
    "\n",
    "    metadata[\"source\"] = record.get(\"metadata\")['source']\n",
    "\n",
    "    return metadata\n",
    "\n",
    "loader = DirectoryLoader('./JSON/', glob='**/*.json', \n",
    "                         show_progress=True, \n",
    "                         loader_cls=JSONLoader,\n",
    "                         loader_kwargs = {'jq_schema': '.', 'content_key' : \"page_content\", 'metadata_func' : metadata_func}\n",
    "                         )\n",
    "\n",
    "data = loader.load()"
   ]
  },
  {
   "cell_type": "code",
   "execution_count": 2,
   "id": "22e3dc26",
   "metadata": {},
   "outputs": [
    {
     "data": {
      "text/plain": [
       "'A mamografia utiliza um aparelho (mamógrafo) desenvolvido apenas para observar o tecido mamário. A máquina obtém raios-x em doses mais baixas do que os raios-x normais. Como eles não atravessam o tecido com facilidade, a máquina possui 2 placas que comprimem a mama para separar o tecido. Isso gera uma imagem melhor e permite que menos radiação seja usada. Como a mamografia é realizada? A mulher é posicionada em pé, de forma que a mama fique entre as duas placas do mamógrafo, que é onde as imagens serão capturadas. É um procedimento simples e o desconforto pela compressão das mamas é passageiro. As imagens são obtidas, normalmente em 2 ângulos diferentes para cada mama. Imagens adicionais podem ser requeridas para avaliar melhor algum achado específico. Quais são os tipos de mamografia? Existem dois tipos: a convencional, realizada com um aparelho analógico, e a digital, realizada com um mamógrafo digital. Há ainda a tomossíntese ou mamografia 3D, que surgiu mais recentemente e nada mais é do que uma evolução da mamografia digital.No modo convencional, as imagens são impressas em um filme, que serve tanto para interpretação diagnóstica quanto para futuras análises comparativas. A mamografia digital, por outro lado, produz imagens digitais, que são gravadas e salvas como arquivos em um computador e permitem que médicos as acessem e procurem alterações no tecido mamário. O que é a mamografia 3D ou tomossíntese e como funciona? É o tipo mais novo de mamografia, conhecido como tomossíntese, onde cada mama é comprimida uma única vez e a máquina obtém múltiplos raios-x de baixa dose à medida que se move em um arco sobre a mama. Um computador então reconstrói as imagens em uma série de fatias finas. Isso permite que os médicos vejam os tecidos mamários com mais clareza em três dimensões. Com os avanços da tecnologia, a dose total de radiação se tornou semelhante à mamografia digital (2D). Quais seriam os benefícios da mamografia 3D ou tomossíntese? Muitos estudos observaram que a tomossíntese diminui a chance da paciente ser reconvocada para exames mamográficos complementares. Também parece encontrar alguns casos a mais de cânceres de mama e pode ser útil especialmente em mulheres com mamas densas. Por que preciso fazer o exame? Uma mamografia pode detectar o câncer precocemente, quando é pequeno, em média 6 a 10 anos antes que um nódulo maligno possa ser sentido. É quando a chance de cura é muito maior e o tratamento mais fácil. Estudos científicos demonstram uma diminuição da mortalidade do câncer de mama de 30 à 50% em mulheres que realizam o rastreamento mamográfico anual. As mamografias são seguras? A dose de radiação mamográfica é extremamente baixa e segura. E seus benefícios superam qualquer remota possibilidade de dano pela exposição à radiação. Aparelhos modernos (mamógrafos digitais) usam doses mais baixas de radiação e conseguem obter radiografias de mama com alta qualidade de imagem. As mamografias são seguras até paras as grávidas? Se houver alguma chance de você estar grávida, informe seu médico e a técnica do exame. Embora o risco para o feto seja muito pequeno e sejam geralmente consideradas seguras durante a gravidez, as mamografias de rastreamento não são feitas rotineiramente em mulheres grávidas que não apresentam risco aumentado de câncer de mama. As mamografias são produzidas por meio de um aparelho chamado mamógrafo que obtém raios-x de baixa dose e que geram as imagens radiográficas. Em todos os casos, há a necessidade de compressão das mamas, para se alcançar imagens de alta qualidade e diminuir a dose de radiação. É considerado um exame extremamente seguro e que se realizado com frequência anual, em mulheres assintomáticas, a partir dos 40 anos de idade, comprovadamente diminui a mortalidade do câncer de mama pela sua detecção precoce.'"
      ]
     },
     "execution_count": 2,
     "metadata": {},
     "output_type": "execute_result"
    }
   ],
   "source": [
    "data[1].page_content"
   ]
  },
  {
   "cell_type": "code",
   "execution_count": 3,
   "id": "d9facd6c",
   "metadata": {},
   "outputs": [
    {
     "data": {
      "text/plain": [
       "'https://grupooncoclinicas.com/tudo-sobre-o-cancer/tratamentos-para-o-cancer/radioterapia'"
      ]
     },
     "execution_count": 3,
     "metadata": {},
     "output_type": "execute_result"
    }
   ],
   "source": [
    "data[0].metadata['source']"
   ]
  },
  {
   "cell_type": "code",
   "execution_count": 4,
   "id": "52d90fa7",
   "metadata": {},
   "outputs": [],
   "source": [
    "from langchain.text_splitter import RecursiveCharacterTextSplitter\n",
    "\n",
    "text_splitter = RecursiveCharacterTextSplitter(chunk_size=500, chunk_overlap=20)\n",
    "all_splits = text_splitter.split_documents(data)   "
   ]
  },
  {
   "cell_type": "code",
   "execution_count": 5,
   "id": "333a656e",
   "metadata": {},
   "outputs": [
    {
     "data": {
      "text/plain": [
       "29"
      ]
     },
     "execution_count": 5,
     "metadata": {},
     "output_type": "execute_result"
    }
   ],
   "source": [
    "len(all_splits)"
   ]
  },
  {
   "cell_type": "code",
   "execution_count": 6,
   "id": "7b42c748",
   "metadata": {},
   "outputs": [
    {
     "data": {
      "text/plain": [
       "'afetadas durante a radioterapia, mas de forma menos intensa. Embora elas tenham uma maior capacidade de recuperação, em alguns tratamentos as sessões são fracionadas para dar tempo de o organismo se fortalecer novamente. Além disso, as doses de radiação e o tempo de aplicação são calculados de acordo com o tipo e o tamanho do tumor, o que também auxilia na preservação das células saudáveis. Segundo a OMS (Organização Mundial de Saúde), aproximadamente 60% dos pacientes com diagnóstico de câncer'"
      ]
     },
     "execution_count": 6,
     "metadata": {},
     "output_type": "execute_result"
    }
   ],
   "source": [
    "all_splits[1].page_content"
   ]
  },
  {
   "cell_type": "code",
   "execution_count": 7,
   "id": "d773ea3e",
   "metadata": {},
   "outputs": [
    {
     "data": {
      "text/plain": [
       "'https://grupooncoclinicas.com/tudo-sobre-o-cancer/tratamentos-para-o-cancer/radioterapia'"
      ]
     },
     "execution_count": 7,
     "metadata": {},
     "output_type": "execute_result"
    }
   ],
   "source": [
    "all_splits[0].metadata['source']"
   ]
  },
  {
   "cell_type": "code",
   "execution_count": 8,
   "id": "edbac91f",
   "metadata": {},
   "outputs": [],
   "source": [
    "from langchain.vectorstores import Chroma\n",
    "from langchain.embeddings import CohereEmbeddings\n",
    "\n",
    "\n",
    "#Para gerar uma chave API Cohere, basta entrar em https://dashboard.cohere.com/api-keys; \n",
    "#Há tanto uma API Trial (gratuita e mais limitada) quanto uma API Produtiva\n",
    "\n",
    "cohere = CohereEmbeddings(cohere_api_key=cohere_api_key, model = \"multilingual-22-12\")\n",
    "\n",
    "#Esta etapa demora um pouco (5-8 min), mas podemos gravar a VectorStore no disco e apenas consumir daqui em diante\n",
    "vectorstore = Chroma.from_documents(documents=all_splits, embedding=cohere)"
   ]
  },
  {
   "cell_type": "markdown",
   "id": "1e9418d8",
   "metadata": {},
   "source": [
    "As próximas duas células possuem o código utilizado para criar a VectorStore e publicá-la no disco da máquina. Dessa forma, não é necessário gerar esta VectorStore todas as vezes que formos consumi-la, basta carregar da memória. Basta descomentar as linhas com ##."
   ]
  },
  {
   "cell_type": "code",
   "execution_count": 9,
   "id": "6dc5b624",
   "metadata": {},
   "outputs": [],
   "source": [
    "#Nome da pasta para onde vai a VectorStore\n",
    "persist_directory = 'InnovationCamp_VectorDB'\n",
    "\n",
    "vectordb = Chroma.from_documents(documents=all_splits,                               \n",
    "                                 # Chose the embedding you want to use\n",
    "                                 embedding=cohere,\n",
    "                                 persist_directory=persist_directory)\n",
    "\n",
    "# Persistir a VectorStore para o disco\n",
    "vectorstore.persist()"
   ]
  },
  {
   "cell_type": "code",
   "execution_count": 10,
   "id": "2e7e33c7",
   "metadata": {},
   "outputs": [],
   "source": [
    "#Nome da pasta de onde vamos carregar a VectorStore\n",
    "persist_directory = 'InnovationCamp_VectorDB'\n",
    "\n",
    "#Carregando a VectorStore do disco\n",
    "vectorstore = Chroma(persist_directory=persist_directory,\n",
    "                  embedding_function=cohere)"
   ]
  },
  {
   "cell_type": "code",
   "execution_count": 11,
   "id": "d48301c5",
   "metadata": {},
   "outputs": [],
   "source": [
    "question = \"Radioerapia causa quais efeitos colaterais?\"\n",
    "docs = vectorstore.similarity_search(question, k=6)"
   ]
  },
  {
   "cell_type": "code",
   "execution_count": 12,
   "id": "f1da0858",
   "metadata": {},
   "outputs": [
    {
     "data": {
      "text/plain": [
       "'pode ser controlada e geralmente desaparece com o fim do tratamento. A seguir, alguns efeitos adversos mais comumente observados em pacientes oncológicos submetidos à radioterapia em diferentes regiões do corpo: Qualquer área – queda de cabelo e de pelos no local do tratamento (algumas vezes pode ser permanente), irritação cutânea no local da aplicação e fadiga; Cabeça e pescoço – boca seca, espessamento da saliva, dificuldade para engolir, dor de garganta, alteração no sabor dos alimentos,'"
      ]
     },
     "execution_count": 12,
     "metadata": {},
     "output_type": "execute_result"
    }
   ],
   "source": [
    "docs[0].page_content"
   ]
  },
  {
   "cell_type": "code",
   "execution_count": 13,
   "id": "9a371707",
   "metadata": {},
   "outputs": [
    {
     "data": {
      "text/plain": [
       "'https://grupooncoclinicas.com/tudo-sobre-o-cancer/tratamentos-para-o-cancer/radioterapia'"
      ]
     },
     "execution_count": 13,
     "metadata": {},
     "output_type": "execute_result"
    }
   ],
   "source": [
    "docs[0].metadata['source']"
   ]
  },
  {
   "cell_type": "code",
   "execution_count": null,
   "id": "7cd4fbb0",
   "metadata": {},
   "outputs": [],
   "source": []
  }
 ],
 "metadata": {
  "kernelspec": {
   "display_name": "Python [conda env:pytorch20_p39_gpu_v1]",
   "language": "python",
   "name": "conda-env-pytorch20_p39_gpu_v1-py"
  },
  "language_info": {
   "codemirror_mode": {
    "name": "ipython",
    "version": 3
   },
   "file_extension": ".py",
   "mimetype": "text/x-python",
   "name": "python",
   "nbconvert_exporter": "python",
   "pygments_lexer": "ipython3",
   "version": "3.9.16"
  }
 },
 "nbformat": 4,
 "nbformat_minor": 5
}
